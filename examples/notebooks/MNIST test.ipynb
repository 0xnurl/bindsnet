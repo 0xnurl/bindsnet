{
 "cells": [
  {
   "cell_type": "markdown",
   "metadata": {},
   "source": [
    "# Test MNIST data loading"
   ]
  },
  {
   "cell_type": "code",
   "execution_count": 1,
   "metadata": {},
   "outputs": [],
   "source": [
    "import torch\n",
    "import os, sys\n",
    "import numpy as np\n",
    "import matplotlib.pyplot as plt\n",
    "\n",
    "sys.path.append(os.path.abspath(os.path.join('..', '..', 'bindsnet')))\n",
    "sys.path.append(os.path.abspath(os.path.join('..', '..', 'bindsnet', 'network')))\n",
    "\n",
    "from datasets import MNIST\n",
    "from encoding import get_poisson\n",
    "\n",
    "%matplotlib inline"
   ]
  },
  {
   "cell_type": "markdown",
   "metadata": {},
   "source": [
    "## Load MNIST training data\n",
    "\n",
    "The `datasets.MNIST` object will handle data loading and saving."
   ]
  },
  {
   "cell_type": "code",
   "execution_count": 2,
   "metadata": {},
   "outputs": [
    {
     "name": "stdout",
     "output_type": "stream",
     "text": [
      "rm: cannot remove '../../data': No such file or directory\r\n"
     ]
    }
   ],
   "source": [
    "# Uncomment and run this carefully!\n",
    "# !rm -r ../../data"
   ]
  },
  {
   "cell_type": "code",
   "execution_count": 3,
   "metadata": {},
   "outputs": [],
   "source": [
    "path = os.path.join('..', '..', 'data')  # Where to store the data\n",
    "mnist = MNIST(path=path)  # Instantiate MNIST object"
   ]
  },
  {
   "cell_type": "code",
   "execution_count": 4,
   "metadata": {},
   "outputs": [
    {
     "name": "stdout",
     "output_type": "stream",
     "text": [
      "\n",
      "Processing images.\n",
      "\n",
      "Progress: 0 / 60000\n",
      "Progress: 1000 / 60000\n",
      "Progress: 2000 / 60000\n",
      "Progress: 3000 / 60000\n",
      "Progress: 4000 / 60000\n",
      "Progress: 5000 / 60000\n",
      "Progress: 6000 / 60000\n",
      "Progress: 7000 / 60000\n",
      "Progress: 8000 / 60000\n",
      "Progress: 9000 / 60000\n",
      "Progress: 10000 / 60000\n",
      "Progress: 11000 / 60000\n",
      "Progress: 12000 / 60000\n",
      "Progress: 13000 / 60000\n",
      "Progress: 14000 / 60000\n",
      "Progress: 15000 / 60000\n",
      "Progress: 16000 / 60000\n",
      "Progress: 17000 / 60000\n",
      "Progress: 18000 / 60000\n",
      "Progress: 19000 / 60000\n",
      "Progress: 20000 / 60000\n",
      "Progress: 21000 / 60000\n",
      "Progress: 22000 / 60000\n",
      "Progress: 23000 / 60000\n",
      "Progress: 24000 / 60000\n",
      "Progress: 25000 / 60000\n",
      "Progress: 26000 / 60000\n",
      "Progress: 27000 / 60000\n",
      "Progress: 28000 / 60000\n",
      "Progress: 29000 / 60000\n",
      "Progress: 30000 / 60000\n",
      "Progress: 31000 / 60000\n",
      "Progress: 32000 / 60000\n",
      "Progress: 33000 / 60000\n",
      "Progress: 34000 / 60000\n",
      "Progress: 35000 / 60000\n",
      "Progress: 36000 / 60000\n",
      "Progress: 37000 / 60000\n",
      "Progress: 38000 / 60000\n",
      "Progress: 39000 / 60000\n",
      "Progress: 40000 / 60000\n",
      "Progress: 41000 / 60000\n",
      "Progress: 42000 / 60000\n",
      "Progress: 43000 / 60000\n",
      "Progress: 44000 / 60000\n",
      "Progress: 45000 / 60000\n",
      "Progress: 46000 / 60000\n",
      "Progress: 47000 / 60000\n",
      "Progress: 48000 / 60000\n",
      "Progress: 49000 / 60000\n",
      "Progress: 50000 / 60000\n",
      "Progress: 51000 / 60000\n",
      "Progress: 52000 / 60000\n",
      "Progress: 53000 / 60000\n",
      "Progress: 54000 / 60000\n",
      "Progress: 55000 / 60000\n",
      "Progress: 56000 / 60000\n",
      "Progress: 57000 / 60000\n",
      "Progress: 58000 / 60000\n",
      "Progress: 59000 / 60000\n",
      "Progress: 60000 / 60000\n",
      "\n",
      "Processing labels.\n",
      "\n",
      "Progress: 0 / 60000\n",
      "Progress: 1000 / 60000\n",
      "Progress: 2000 / 60000\n",
      "Progress: 3000 / 60000\n",
      "Progress: 4000 / 60000\n",
      "Progress: 5000 / 60000\n",
      "Progress: 6000 / 60000\n",
      "Progress: 7000 / 60000\n",
      "Progress: 8000 / 60000\n",
      "Progress: 9000 / 60000\n",
      "Progress: 10000 / 60000\n",
      "Progress: 11000 / 60000\n",
      "Progress: 12000 / 60000\n",
      "Progress: 13000 / 60000\n",
      "Progress: 14000 / 60000\n",
      "Progress: 15000 / 60000\n",
      "Progress: 16000 / 60000\n",
      "Progress: 17000 / 60000\n",
      "Progress: 18000 / 60000\n",
      "Progress: 19000 / 60000\n",
      "Progress: 20000 / 60000\n",
      "Progress: 21000 / 60000\n",
      "Progress: 22000 / 60000\n",
      "Progress: 23000 / 60000\n",
      "Progress: 24000 / 60000\n",
      "Progress: 25000 / 60000\n",
      "Progress: 26000 / 60000\n",
      "Progress: 27000 / 60000\n",
      "Progress: 28000 / 60000\n",
      "Progress: 29000 / 60000\n",
      "Progress: 30000 / 60000\n",
      "Progress: 31000 / 60000\n",
      "Progress: 32000 / 60000\n",
      "Progress: 33000 / 60000\n",
      "Progress: 34000 / 60000\n",
      "Progress: 35000 / 60000\n",
      "Progress: 36000 / 60000\n",
      "Progress: 37000 / 60000\n",
      "Progress: 38000 / 60000\n",
      "Progress: 39000 / 60000\n",
      "Progress: 40000 / 60000\n",
      "Progress: 41000 / 60000\n",
      "Progress: 42000 / 60000\n",
      "Progress: 43000 / 60000\n",
      "Progress: 44000 / 60000\n",
      "Progress: 45000 / 60000\n",
      "Progress: 46000 / 60000\n",
      "Progress: 47000 / 60000\n",
      "Progress: 48000 / 60000\n",
      "Progress: 49000 / 60000\n",
      "Progress: 50000 / 60000\n",
      "Progress: 51000 / 60000\n",
      "Progress: 52000 / 60000\n",
      "Progress: 53000 / 60000\n",
      "Progress: 54000 / 60000\n",
      "Progress: 55000 / 60000\n",
      "Progress: 56000 / 60000\n",
      "Progress: 57000 / 60000\n",
      "Progress: 58000 / 60000\n",
      "Progress: 59000 / 60000\n",
      "Progress: 60000 / 60000\n"
     ]
    }
   ],
   "source": [
    "# Load training data.\n",
    "images, labels = mnist.get_train()"
   ]
  },
  {
   "cell_type": "code",
   "execution_count": 5,
   "metadata": {},
   "outputs": [
    {
     "name": "stdout",
     "output_type": "stream",
     "text": [
      "Shape of training images: (60000, 28, 28)\n",
      "Shape of training labels: (60000,)\n"
     ]
    }
   ],
   "source": [
    "print('Shape of training images:', images.shape)\n",
    "print('Shape of training labels:', labels.shape)"
   ]
  },
  {
   "cell_type": "code",
   "execution_count": 6,
   "metadata": {},
   "outputs": [
    {
     "data": {
      "image/png": "[encoded data removed]",
      "text/plain": [
       "<matplotlib.figure.Figure at 0x7f4b1c845b70>"
      ]
     },
     "metadata": {},
     "output_type": "display_data"
    }
   ],
   "source": [
    "fig, axes = plt.subplots(1, 4, figsize=(15, 8))\n",
    "\n",
    "for i, ax in enumerate(axes):\n",
    "    ax.matshow(images[i], cmap='binary')\n",
    "    ax.set_xticks(()); ax.set_yticks(());"
   ]
  },
  {
   "cell_type": "markdown",
   "metadata": {},
   "source": [
    "If we want to load these datasets again, `bindsnet` can automatically load them from serialized object files on disk (which is much faster!)."
   ]
  },
  {
   "cell_type": "code",
   "execution_count": 7,
   "metadata": {},
   "outputs": [
    {
     "name": "stdout",
     "output_type": "stream",
     "text": [
      "Loading images from serialized object file.\n",
      "\n",
      "Loading labels from serialized object file.\n",
      "\n"
     ]
    }
   ],
   "source": [
    "del images, labels  # Delete data from memory\n",
    "\n",
    "# Reload data from serialized object files.\n",
    "images, labels = mnist.get_train()"
   ]
  },
  {
   "cell_type": "markdown",
   "metadata": {},
   "source": [
    "As a sanity check, let's do the same steps for the test data."
   ]
  },
  {
   "cell_type": "code",
   "execution_count": 12,
   "metadata": {},
   "outputs": [
    {
     "name": "stdout",
     "output_type": "stream",
     "text": [
      "Loading images from serialized object file.\n",
      "\n",
      "Loading labels from serialized object file.\n",
      "\n"
     ]
    }
   ],
   "source": [
    "# Load test data.\n",
    "test_images, test_labels = mnist.get_test()"
   ]
  },
  {
   "cell_type": "code",
   "execution_count": 13,
   "metadata": {},
   "outputs": [
    {
     "name": "stdout",
     "output_type": "stream",
     "text": [
      "Shape of test images: (10000, 28, 28)\n",
      "Shape of test labels: (10000,)\n"
     ]
    }
   ],
   "source": [
    "print('Shape of test images:', test_images.shape)\n",
    "print('Shape of test labels:', test_labels.shape)"
   ]
  },
  {
   "cell_type": "code",
   "execution_count": 14,
   "metadata": {},
   "outputs": [
    {
     "name": "stdout",
     "output_type": "stream",
     "text": [
      "Loading images from serialized object file.\n",
      "\n",
      "Loading labels from serialized object file.\n",
      "\n"
     ]
    }
   ],
   "source": [
    "del test_images, test_labels  # Delete data from memory\n",
    "\n",
    "# Reload data from serialized object files.\n",
    "test_images, test_labels = mnist.get_train()"
   ]
  },
  {
   "cell_type": "markdown",
   "metadata": {},
   "source": [
    "## Poisson spike encoding\n",
    "\n",
    "The function `datasets.get_poisson` takes in a dataset of observations (e.g., `images` as in above), and returns a generator which yields Poisson spike trains of dimensionality `[time, n_1, ..., n_k]`, where `time` is specified in the function call, and `n_1, ..., n_k` corresponds to the dimensionality of the observations matrix.\n",
    "\n",
    "As a shorthand, let $\\mathbf{X}$ = the observation matrix (the dataset; e.g., the MNIST handwritten digits), and let $\\mathbf{y}$ = the target vector (the ground truth targets; e.g., the corresponding labels of the MNIST digit data)."
   ]
  },
  {
   "cell_type": "code",
   "execution_count": 15,
   "metadata": {},
   "outputs": [
    {
     "name": "stdout",
     "output_type": "stream",
     "text": [
      "Loading images from serialized object file.\n",
      "\n",
      "Loading labels from serialized object file.\n",
      "\n"
     ]
    }
   ],
   "source": [
    "X, y = mnist.get_train()  # Load the training data\n",
    "\n",
    "min_interspike = 2  # Minimum typical inter-spike interval\n",
    "X = X / (255 * min_interspike)  # Normalize and enforce typical ISI\n",
    "\n",
    "time = 1000  # How many timesteps per input?\n",
    "\n",
    "# Creates a \"data loader\": yields Poisson spike train-encoded data.\n",
    "data_loader = get_poisson(X, time=time)"
   ]
  },
  {
   "cell_type": "markdown",
   "metadata": {},
   "source": [
    "To fetch an item from the _data loader_, call `next(data_loader)`."
   ]
  },
  {
   "cell_type": "code",
   "execution_count": 16,
   "metadata": {},
   "outputs": [],
   "source": [
    "spike_trains = next(data_loader)  # Fetch an encoded datum"
   ]
  },
  {
   "cell_type": "markdown",
   "metadata": {},
   "source": [
    "Now, let's plot the original digit against the spike trains, summed up over the time axis. We expect that these should look very similar, albeit from the randomness introduced by the non-deterministic Poisson spiking process."
   ]
  },
  {
   "cell_type": "code",
   "execution_count": 17,
   "metadata": {},
   "outputs": [
    {
     "data": {
      "image/png": "[encoded data removed]",
      "text/plain": [
       "<matplotlib.figure.Figure at 0x7f4b13344240>"
      ]
     },
     "metadata": {},
     "output_type": "display_data"
    }
   ],
   "source": [
    "fig, axes = plt.subplots(1, 2, figsize=(9, 9))\n",
    "\n",
    "axes[0].matshow(X[0] * (255 * min_interspike), cmap='binary')\n",
    "axes[1].matshow(spike_trains.sum(0), cmap='binary')\n",
    "\n",
    "axes[0].set_title('Original digit image')\n",
    "axes[1].set_title('Reconstructed from Poisson spike trains')\n",
    "\n",
    "for ax in axes:\n",
    "    ax.set_xticks(())\n",
    "    ax.set_yticks(())"
   ]
  },
  {
   "cell_type": "markdown",
   "metadata": {},
   "source": [
    "Let's inspect the raw spikes over the 1,000 timesteps."
   ]
  },
  {
   "cell_type": "code",
   "execution_count": 18,
   "metadata": {},
   "outputs": [
    {
     "data": {
      "image/png": "[encoded data removed]",
      "text/plain": [
       "<matplotlib.figure.Figure at 0x7f4b1c1fcf98>"
      ]
     },
     "metadata": {},
     "output_type": "display_data"
    }
   ],
   "source": [
    "plt.rcParams['figure.figsize'] = (10, 10)\n",
    "\n",
    "plt.matshow(spike_trains.reshape(time, -1).T, cmap='binary')\n",
    "plt.xticks(()); plt.yticks(())\n",
    "plt.xlabel('Time'); plt.ylabel('Neuron index')\n",
    "plt.title('MNIST digit Poisson spike train encoding');"
   ]
  }
 ],
 "metadata": {
  "kernelspec": {
   "display_name": "Python 3",
   "language": "python",
   "name": "python3"
  },
  "language_info": {
   "codemirror_mode": {
    "name": "ipython",
    "version": 3
   },
   "file_extension": ".py",
   "mimetype": "text/x-python",
   "name": "python",
   "nbconvert_exporter": "python",
   "pygments_lexer": "ipython3",
   "version": "3.6.3"
  }
 },
 "nbformat": 4,
 "nbformat_minor": 2
}
