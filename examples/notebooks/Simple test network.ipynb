{
 "cells": [
  {
   "cell_type": "markdown",
   "metadata": {},
   "source": [
    "# Testing simple `bindsnet` functionality\n",
    "\n",
    "## Imports and utils"
   ]
  },
  {
   "cell_type": "code",
   "execution_count": 1,
   "metadata": {},
   "outputs": [],
   "source": [
    "import torch\n",
    "import os, sys\n",
    "import numpy as np\n",
    "import matplotlib.pyplot as plt\n",
    "\n",
    "sys.path.append(os.path.abspath(os.path.join('..', '..', 'bindsnet')))\n",
    "sys.path.append(os.path.abspath(os.path.join('..', '..', 'bindsnet', 'network')))\n",
    "sys.path.append(os.path.abspath(os.path.join('..', '..', 'bindsnet', 'analysis')))\n",
    "\n",
    "from network     import Network, Monitor\n",
    "from connections import Connection\n",
    "from nodes       import McCullochPitts, Input\n",
    "import plotting as pl\n",
    "\n",
    "%matplotlib inline\n"
   ]
  },
  {
   "cell_type": "markdown",
   "metadata": {},
   "source": [
    "## Construct simple network"
   ]
  },
  {
   "cell_type": "code",
   "execution_count": 2,
   "metadata": {},
   "outputs": [],
   "source": [
    "network = Network(dt=1.0)  # Init network with simulation timestep 1\n",
    "dt = 1.0"
   ]
  },
  {
   "cell_type": "markdown",
   "metadata": {},
   "source": [
    "That was easy!\n",
    "\n",
    "### Add layer of McCulluch-Pitts (MP) neurons"
   ]
  },
  {
   "cell_type": "code",
   "execution_count": 3,
   "metadata": {},
   "outputs": [],
   "source": [
    "n_neurons = 25\n",
    "\n",
    "# Create layer of `n_neurons` McCulloch-Pitts neurons and add it to the network\n",
    "mp_layer = McCullochPitts(n=n_neurons, traces=False, threshold=2.0)  \n",
    "network.add_layer(mp_layer, name='A')"
   ]
  },
  {
   "cell_type": "markdown",
   "metadata": {},
   "source": [
    "### Add input layer"
   ]
  },
  {
   "cell_type": "code",
   "execution_count": 4,
   "metadata": {},
   "outputs": [],
   "source": [
    "n_input = 25\n",
    "\n",
    "# Create layer of `n_input` input neurons and add it to the network\n",
    "input_layer = Input(n=n_input)\n",
    "network.add_layer(input_layer, name='X')"
   ]
  },
  {
   "cell_type": "markdown",
   "metadata": {},
   "source": [
    "### Check properties of network"
   ]
  },
  {
   "cell_type": "code",
   "execution_count": null,
   "metadata": {},
   "outputs": [],
   "source": [
    "print(network.layers)\n",
    "print()\n",
    "\n",
    "print('No. of neurons in layer A:', network.layers['A'].n)\n",
    "print('Spike traces in layer A?', network.layers['A'].traces)\n",
    "print('Threshold of neurons in layer A:', network.layers['A'].threshold)\n",
    "print('Spike occurrence vector of layer A:', network.layers['A'].s.numpy())\n",
    "print()\n",
    "\n",
    "print('No. of neurons in layer X:', network.layers['X'].n)\n",
    "print('Spike traces in layer X?', network.layers['X'].traces)\n",
    "print('Spike occurrence vector of layer X:', network.layers['X'].s.numpy())"
   ]
  },
  {
   "cell_type": "markdown",
   "metadata": {},
   "source": [
    "### Add connection from input to MP layer"
   ]
  },
  {
   "cell_type": "code",
   "execution_count": 5,
   "metadata": {},
   "outputs": [],
   "source": [
    "w = torch.rand(input_layer.n, input_layer.n)  # Create random uniform weight matrix between layers.\n",
    "\n",
    "# Create connection object from input to MP layer with specified weights.\n",
    "connection = Connection(input_layer, mp_layer, update_rule=None, w=w)\n",
    "network.add_connection(connection, source='X', target='A')\n",
    "\n",
    "voltage_monitor = Monitor(mp_layer, state_vars=['v'])\n",
    "network.add_monitor(voltage_monitor, name='v_monitor')"
   ]
  },
  {
   "cell_type": "code",
   "execution_count": null,
   "metadata": {},
   "outputs": [],
   "source": [
    "fig, ax = plt.subplots(figsize=(10, 10))\n",
    "\n",
    "im = ax.matshow(w.numpy(), cmap='hot_r')\n",
    "ax.set_xticks(()); ax.set_yticks(()); plt.colorbar(im)\n",
    "ax.set_title('Weights from input to McCulloch-Pitts layer');"
   ]
  },
  {
   "cell_type": "markdown",
   "metadata": {},
   "source": [
    "## Run simple network simulation\n",
    "\n",
    "### Create network input"
   ]
  },
  {
   "cell_type": "code",
   "execution_count": 6,
   "metadata": {},
   "outputs": [],
   "source": [
    "time = 100  # Simulation time\n",
    "p_fire = 0.1  # Bernoulli probability of input neuron spiking\n",
    "\n",
    "# Input spikes are Bernoulli experiments with spike prob. `p_fire`.\n",
    "inpt = np.random.binomial(1, p_fire, [time, n_input])\n",
    "inpt = torch.from_numpy(inpt)"
   ]
  },
  {
   "cell_type": "markdown",
   "metadata": {},
   "source": [
    "### Run network simulation"
   ]
  },
  {
   "cell_type": "code",
   "execution_count": 7,
   "metadata": {},
   "outputs": [],
   "source": [
    "simulation_time = 100\n",
    "output = network.run(inpts={'X' : inpt}, time=simulation_time)"
   ]
  },
  {
   "cell_type": "markdown",
   "metadata": {},
   "source": [
    "### Inspect network input / output"
   ]
  },
  {
   "cell_type": "code",
   "execution_count": null,
   "metadata": {},
   "outputs": [],
   "source": [
    "inpt_spikes = output['X'].numpy()\n",
    "mp_spikes = output['A'].numpy()\n",
    "\n",
    "plt.matshow(inpt_spikes, cmap='binary');\n",
    "plt.xticks(()); plt.yticks(());\n",
    "plt.xlabel('Simulation time'); plt.ylabel('Index of input neuron');\n",
    "plt.title('Input neurons spikes over time');\n",
    "\n",
    "plt.matshow(mp_spikes, cmap='binary')\n",
    "plt.xticks(()); plt.yticks(())\n",
    "plt.xlabel('Simulation time'); plt.ylabel('Index of input neuron')\n",
    "plt.title('McCulloch-Pitts neurons spikes over time')\n",
    "\n",
    "plt.matshow(np.stack([inpt_spikes.sum(axis=0)] * 25))\n",
    "plt.xlabel('Simulation time'); plt.ylabel('Index of input neuron')\n",
    "plt.title('Summed intensity of input spikes')\n",
    "plt.xticks(()); plt.yticks(());\n",
    "\n",
    "plt.matshow(np.stack([mp_spikes.sum(axis=0)] * 25))\n",
    "plt.xlabel('Simulation time'); plt.ylabel('Index of input neuron')\n",
    "plt.title('Summed intensity of McCulloch-Pitts spikes')\n",
    "plt.xticks(()); plt.yticks(());"
   ]
  },
  {
   "cell_type": "markdown",
   "metadata": {},
   "source": [
    "### Plotting all neurons' spiking activity"
   ]
  },
  {
   "cell_type": "code",
   "execution_count": null,
   "metadata": {
    "scrolled": false
   },
   "outputs": [],
   "source": [
    "ims, axes = pl.plot_spikes(output)"
   ]
  },
  {
   "cell_type": "markdown",
   "metadata": {},
   "source": [
    "### Plot all layer's spiking activity between a specific range of time"
   ]
  },
  {
   "cell_type": "code",
   "execution_count": null,
   "metadata": {},
   "outputs": [],
   "source": [
    "pl.plot_spikes(output, time=(30, 80))"
   ]
  },
  {
   "cell_type": "markdown",
   "metadata": {},
   "source": [
    "### Plot input layer's spiking activity between a specific range of time"
   ]
  },
  {
   "cell_type": "code",
   "execution_count": null,
   "metadata": {},
   "outputs": [],
   "source": [
    "pl.plot_spikes(output, time=(50, 100), n_neurons={key: (10, 25) for key in output.keys()})"
   ]
  },
  {
   "cell_type": "markdown",
   "metadata": {},
   "source": [
    "### Plot different number of neurons for sizes"
   ]
  },
  {
   "cell_type": "code",
   "execution_count": null,
   "metadata": {},
   "outputs": [],
   "source": [
    "pl.plot_spikes(output, time=(50, 100), n_neurons={'X': (11, 20), 'A':(15, 25)})"
   ]
  },
  {
   "cell_type": "markdown",
   "metadata": {},
   "source": [
    "### Plot Voltages"
   ]
  },
  {
   "cell_type": "code",
   "execution_count": null,
   "metadata": {},
   "outputs": [],
   "source": [
    "pl.plot_voltages({'MP Layer': voltage_monitor.get('v')}, n_neurons={'MP Layer': (10, 25)}, time=(50, 100))"
   ]
  },
  {
   "cell_type": "markdown",
   "metadata": {},
   "source": [
    "### General Plot"
   ]
  },
  {
   "cell_type": "code",
   "execution_count": null,
   "metadata": {},
   "outputs": [],
   "source": [
    "#voltage_monitor.get('v').shape\n",
    "pl.plot_general(voltage_monitor)"
   ]
  }
 ],
 "metadata": {
  "anaconda-cloud": {},
  "kernelspec": {
   "display_name": "Python 3",
   "language": "python",
   "name": "python3"
  },
  "language_info": {
   "codemirror_mode": {
    "name": "ipython",
    "version": 3
   },
   "file_extension": ".py",
   "mimetype": "text/x-python",
   "name": "python",
   "nbconvert_exporter": "python",
   "pygments_lexer": "ipython3",
   "version": "3.6.3"
  }
 },
 "nbformat": 4,
 "nbformat_minor": 2
}
